{
 "cells": [
  {
   "cell_type": "markdown",
   "id": "4a2284d4",
   "metadata": {},
   "source": [
    "# Hidden art\n",
    "## Steganography - Forensics"
   ]
  },
  {
   "cell_type": "code",
   "execution_count": 1,
   "id": "204f3fd0",
   "metadata": {},
   "outputs": [
    {
     "name": "stdout",
     "output_type": "stream",
     "text": [
      "Decoded String: leonardo di ser piero da vinci[b] (15 april 1452 – 2 may 1519) was an italian polymath of the high renaissance who was active as a painter, draughtsman, engineer, scientist, theorist, sculptor, and architect.[3] while his fame initially rested on his achievements as a painter, he also became known for his notebooks, in which he made drawings and notes on a variety of subjects, including anatomy, astronomy, botany, cartography, painting, and paleontology. leonardo is widely regarded to have been a genius who epitomized the renaissance humanist ideal,[4] and his collective works comprise a contribution to later generations of artists matched only by that of his younger contemporary, michelangelo.[3][4] born out of wedlock to a successful notary and a lower-class woman in, or near, vinci, he was educated in florence by the italian painter and sculptor andrea del verrocchio. he began his career in the city, but then spent much time in the service of ludovico sforza in milan. later, he worked in florence and milan again, as well as briefly in rome, all while attracting a large following of imitators and students. upon the invitation of francis i, he spent his last three years in france, where he died in 1519. since his death, there has not been a time where his achievements, diverse interests, personal life, and empirical thinking have failed to incite interest and admiration,[3][4] making him a frequent namesake and subject in culture.leonardo di ser piero da vinci[b] (15 april 1452 – 2 may 1519) was an italian polymath of the high renaissance who was active as a painter, draughtsman, engineer, scientist, theorist, sculptor, and architect.[3] while his fame initially rested on his achievements as a painter, he also became known for his notebooks, in which he made drawings and notes on a variety of subjects, including anatomy, astronomy, botany, cartography, painting, and paleontology. leonardo is widely regarded to have been a genius who epitomized the renaissance humanist ideal,[4] and his collective works comprise a contribution to later generations of artists matched only by that of his younger contemporary, michelangelo.[3][4] flag ctf{efdrg%$#dfgr-gfcd} born out of wedlock to a successful notary and a lower-class woman in, or near, vinci, he was educated in florence by the italian painter and sculptor andrea del verrocchio. he began his career in the city, but then spent much time in the service of ludovico sforza in milan. later, he worked in florence and milan again, as well as briefly in rome, all while attracting a large following of imitators and students. upon the invitation of francis i, he spent his last three years in france, where he died in 1519. since his death, there has not been a time where his achievements, diverse interests, personal life, and empirical thinking have failed to incite interest and admiration,[3][4] making him a frequent namesake and subject in culture.leonardo di ser piero da vinci[b] (15 april 1452 – 2 may 1519) was an italian polymath of the high renaissance who was active as a painter, draughtsman, engineer, scientist, theorist, sculptor, and architect.[3] while his fame initially rested on his achievements as a painter, he also became known for his notebooks, in which he made drawings and notes on a variety of subjects, including anatomy, astronomy, botany, cartography, painting, and paleontology. leonardo is widely regarded to have been a genius who epitomized the renaissance humanist ideal,[4] and his collective works comprise a contribution to later generations of artists matched only by that of his younger contemporary, michelangelo.[3][4] born out of wedlock to a successful notary and a lower-class woman in, or near, vinci, he was educated in florence by the italian painter and sculptor andrea del verrocchio. he began his career in the city, but then spent much time in the service of ludovico sforza in milan. later, he worked in florence and milan again, as well as briefly in rome, all while attracting a large following of imitators and students. upon the invitation of francis i, he spent his last three years in france, where he died in 1519. since his death, there has not been a time where his achievements, diverse interests, personal life, and empirical thinking have failed to incite interest and admiration,[3][4] making him a frequent namesake and subject in culture.leonardo di ser piero da vinci[b] (15 april 1452 – 2 may 1519) was an italian polymath of the high renaissance who was active as a painter, draughtsman, engineer, scientist, theorist, sculptor, and architect.[3] while his fame initially rested on his achievements as a painter, he also became known for his notebooks, in which he made drawings and notes on a variety of subjects, including anatomy, astronomy, botany, cartography, painting, and paleontology. leonardo is widely regarded to have been a genius who epitomized the renaissance humanist ideal,[4] and his collective works comprise a contribution to later generations of artists matched only by that of his younger contemporary, michelangelo.[3][4] born out of wedlock to a successful notary and a lower-class woman in, or near, vinci, he was educated in florence by the italian painter and sculptor andrea del verrocchio. he began his career in the city, but then spent much time in the service of ludovico sforza in milan. later, he worked in florence and milan again, as well as briefly in rome, all while attracting a large following of imitators and students. upon the invitation of francis i, he spent his last three years in france, where he died in 1519. since his death, there has not been a time where his achievements, diverse interests, personal life, and empirical thinking have failed to incite interest and admiration,[3][4] making him a frequent namesake and subject in culture. \n"
     ]
    }
   ],
   "source": [
    "import heapq\n",
    "import pickle\n",
    "\n",
    "# We use a huffman tree because we have a dict whith the char frequency\n",
    "\n",
    "class Node:\n",
    "    def __init__(self, char, freq, left_node=None, right_node=None):\n",
    "        self.char = char\n",
    "        self.freq = freq\n",
    "        self.left_node = left_node\n",
    "        self.right_node = right_node\n",
    "    \n",
    "    def __lt__(self, other):\n",
    "        return self.freq < other.freq\n",
    "\n",
    "def generate_huffman_tree(freq_dict):\n",
    "    # Create a priority queue from the frequency dictionary\n",
    "    priority_queue = [Node(char, freq) for char, freq in freq_dict.items()]\n",
    "    heapq.heapify(priority_queue)\n",
    "\n",
    "    # Iteratively combine the two nodes with the lowest frequencies\n",
    "    while len(priority_queue) > 1:\n",
    "        low_node = heapq.heappop(priority_queue)\n",
    "        high_node = heapq.heappop(priority_queue)\n",
    "        combined_node = Node(None, low_node.freq + high_node.freq, low_node, high_node)\n",
    "        heapq.heappush(priority_queue, combined_node)\n",
    "    \n",
    "    return priority_queue[0]  # The remaining node is the root of the Huffman tree\n",
    "\n",
    "def generate_huffman_codes(root):\n",
    "    huff_codes = {}\n",
    "\n",
    "    def generate_codes_recursive(node, current_code):\n",
    "        if node is None:\n",
    "            return\n",
    "        if node.char is not None:\n",
    "            huff_codes[node.char] = current_code\n",
    "            return\n",
    "        generate_codes_recursive(node.left_node, current_code + '0')\n",
    "        generate_codes_recursive(node.right_node, current_code + '1')\n",
    "\n",
    "    generate_codes_recursive(root, '')\n",
    "    return huff_codes\n",
    "\n",
    "def decode_huffman(huff_codes, binary_str):\n",
    "    decoded_str = ''\n",
    "    current_code = ''\n",
    "    for bit in binary_str:\n",
    "        current_code += bit\n",
    "        for char, code in huff_codes.items():\n",
    "            if current_code == code:\n",
    "                decoded_str += char\n",
    "                current_code = ''\n",
    "                break\n",
    "    return decoded_str\n",
    "\n",
    "# Load your pickle file\n",
    "with open('data_freq.pkl', 'rb') as handle:\n",
    "    frequency_dictionary = pickle.load(handle)\n",
    "\n",
    "# Generate the Huffman tree and Huffman codes\n",
    "root = generate_huffman_tree(frequency_dictionary)\n",
    "huff_codes = generate_huffman_codes(root)\n",
    "\n",
    "# Read your binary file\n",
    "with open('e-dummy.txt', 'r') as file:\n",
    "    binary_data = file.read().replace('\\n', '')\n",
    "\n",
    "# Decode the binary file\n",
    "decoded_str = decode_huffman(huff_codes, binary_data)\n",
    "\n",
    "print(f\"Decoded String: {decoded_str}\")\n"
   ]
  },
  {
   "cell_type": "code",
   "execution_count": null,
   "id": "4c737534",
   "metadata": {},
   "outputs": [],
   "source": []
  }
 ],
 "metadata": {
  "kernelspec": {
   "display_name": "Python 3 (ipykernel)",
   "language": "python",
   "name": "python3"
  },
  "language_info": {
   "codemirror_mode": {
    "name": "ipython",
    "version": 3
   },
   "file_extension": ".py",
   "mimetype": "text/x-python",
   "name": "python",
   "nbconvert_exporter": "python",
   "pygments_lexer": "ipython3",
   "version": "3.9.12"
  }
 },
 "nbformat": 4,
 "nbformat_minor": 5
}
