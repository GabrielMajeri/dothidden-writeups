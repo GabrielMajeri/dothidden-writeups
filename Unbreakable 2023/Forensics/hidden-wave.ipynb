{
 "cells": [
  {
   "cell_type": "markdown",
   "id": "cad3cce0",
   "metadata": {},
   "source": [
    "# Hidden Wave"
   ]
  },
  {
   "cell_type": "markdown",
   "id": "12117827",
   "metadata": {},
   "source": [
    "## Forensic - audio steganography"
   ]
  },
  {
   "cell_type": "code",
   "execution_count": 2,
   "id": "4a397db4",
   "metadata": {},
   "outputs": [
    {
     "name": "stdout",
     "output_type": "stream",
     "text": [
      "Sucessfully decoded: CTF{UNZSFEFEWF@SDF-NOICE}\n"
     ]
    }
   ],
   "source": [
    "# Use wave package (native to Python) for reading the received audio file\n",
    "import wave\n",
    "# Read file as binary stream do not forget to change the file name\n",
    "song = wave.open(\"hidden-wave.wav\", mode='rb')\n",
    "# Convert audio to byte array\n",
    "frame_bytes = bytearray(list(song.readframes(song.getnframes())))\n",
    "\n",
    "# Extract the LSB of each byte\n",
    "extracted = [frame_bytes[i] & 1 for i in range(len(frame_bytes))]\n",
    "# Convert byte array back to string\n",
    "string = \"\".join(chr(int(\"\".join(map(str,extracted[i:i+8])),2)) for i in range(0,len(extracted),8))\n",
    "# Cut off at the filler characters\n",
    "decoded = string.split(\"###\")[0]\n",
    "\n",
    "# Print the extracted text\n",
    "print(f\"Sucessfully decoded: {decoded}\")\n",
    "song.close()"
   ]
  }
 ],
 "metadata": {
  "kernelspec": {
   "display_name": "Python 3 (ipykernel)",
   "language": "python",
   "name": "python3"
  },
  "language_info": {
   "codemirror_mode": {
    "name": "ipython",
    "version": 3
   },
   "file_extension": ".py",
   "mimetype": "text/x-python",
   "name": "python",
   "nbconvert_exporter": "python",
   "pygments_lexer": "ipython3",
   "version": "3.9.12"
  }
 },
 "nbformat": 4,
 "nbformat_minor": 5
}
