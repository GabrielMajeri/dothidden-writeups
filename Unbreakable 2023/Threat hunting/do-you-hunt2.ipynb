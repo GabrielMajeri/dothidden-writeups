{
 "cells": [
  {
   "cell_type": "markdown",
   "id": "dc2c1446",
   "metadata": {},
   "source": [
    "# Do you hunt 2\n",
    "## Threat hunting"
   ]
  },
  {
   "cell_type": "code",
   "execution_count": null,
   "id": "9934107b",
   "metadata": {
    "is_executing": true
   },
   "outputs": [],
   "source": [
    "def convert_to_ascii(file_path):\n",
    "    with open(file_path, 'r') as file:\n",
    "        data = file.read()\n",
    "\n",
    "    numbers = [int(line.split('#')[-1]) for line in data.split('\\n') if '#' in line]\n",
    "    ascii_chars = [chr(num) for num in numbers]\n",
    "\n",
    "    result = ''.join(ascii_chars)\n",
    "    print(result)\n",
    "\n",
    "\n",
    "# Provide the path to the text file\n",
    "file_path = 'do-you-hunt2-final'\n",
    "convert_to_ascii(file_path)\n"
   ]
  },
  {
   "cell_type": "code",
   "execution_count": null,
   "id": "ec62940c",
   "metadata": {
    "is_executing": true
   },
   "outputs": [],
   "source": []
  },
  {
   "cell_type": "code",
   "execution_count": null,
   "outputs": [],
   "source": [],
   "metadata": {
    "collapsed": false,
    "ExecuteTime": {
     "end_time": "2023-05-23T20:13:35.719204Z",
     "start_time": "2023-05-23T20:13:35.710748Z"
    }
   }
  },
  {
   "cell_type": "code",
   "execution_count": null,
   "outputs": [],
   "source": [],
   "metadata": {
    "collapsed": false
   }
  }
 ],
 "metadata": {
  "kernelspec": {
   "display_name": "Python 3 (ipykernel)",
   "language": "python",
   "name": "python3"
  },
  "language_info": {
   "codemirror_mode": {
    "name": "ipython",
    "version": 3
   },
   "file_extension": ".py",
   "mimetype": "text/x-python",
   "name": "python",
   "nbconvert_exporter": "python",
   "pygments_lexer": "ipython3",
   "version": "3.9.12"
  }
 },
 "nbformat": 4,
 "nbformat_minor": 5
}
